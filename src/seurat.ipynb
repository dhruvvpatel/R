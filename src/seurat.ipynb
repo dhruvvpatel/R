{
 "cells": [
  {
   "cell_type": "code",
   "execution_count": 1,
   "id": "d206a3ac-0b58-4441-b8b2-62e1c71ba2d2",
   "metadata": {},
   "outputs": [
    {
     "name": "stderr",
     "output_type": "stream",
     "text": [
      "\n",
      "Attaching package: ‘dplyr’\n",
      "\n",
      "\n",
      "The following objects are masked from ‘package:stats’:\n",
      "\n",
      "    filter, lag\n",
      "\n",
      "\n",
      "The following objects are masked from ‘package:base’:\n",
      "\n",
      "    intersect, setdiff, setequal, union\n",
      "\n",
      "\n",
      "Attaching SeuratObject\n",
      "\n"
     ]
    }
   ],
   "source": [
    "library(dplyr)\n",
    "library(Seurat)\n",
    "library(patchwork)"
   ]
  },
  {
   "cell_type": "code",
   "execution_count": 2,
   "id": "d0d8aed2-ade8-4098-80e3-7a7e9646e011",
   "metadata": {},
   "outputs": [
    {
     "name": "stderr",
     "output_type": "stream",
     "text": [
      "Warning message:\n",
      "“Feature names cannot have underscores ('_'), replacing with dashes ('-')”\n"
     ]
    },
    {
     "data": {
      "text/plain": [
       "An object of class Seurat \n",
       "13714 features across 2700 samples within 1 assay \n",
       "Active assay: RNA (13714 features, 0 variable features)"
      ]
     },
     "metadata": {},
     "output_type": "display_data"
    }
   ],
   "source": [
    "# Load the PBMC dataset\n",
    "pbmc.data <- Read10X(data.dir = \"filtered-gene-bc-matrices/hg19/\")\n",
    "# Initialize the Seurat object with the raw (non-normalized data).\n",
    "pbmc <- CreateSeuratObject(counts = pbmc.data, project = \"pbmc3k\", min.cells = 3, min.features = 200)\n",
    "pbmc"
   ]
  },
  {
   "cell_type": "code",
   "execution_count": 3,
   "id": "f08854ae-d0db-46b6-bf00-091c23b2572e",
   "metadata": {},
   "outputs": [
    {
     "name": "stderr",
     "output_type": "stream",
     "text": [
      "   [[ suppressing 30 column names ‘AAACATACAACCAC-1’, ‘AAACATTGAGCTAC-1’, ‘AAACATTGATCAGC-1’ ... ]]\n",
      "\n"
     ]
    },
    {
     "data": {
      "text/plain": [
       "3 x 30 sparse Matrix of class \"dgCMatrix\"\n",
       "                                                                   \n",
       "CD3D  4 . 10 . . 1 2 3 1 . . 2 7 1 . . 1 3 . 2  3 . . . . . 3 4 1 5\n",
       "TCL1A . .  . . . . . . 1 . . . . . . . . . . .  . 1 . . . . . . . .\n",
       "MS4A1 . 6  . . . . . . 1 1 1 . . . . . . . . . 36 1 2 . . 2 . . . ."
      ]
     },
     "metadata": {},
     "output_type": "display_data"
    }
   ],
   "source": [
    "pbmc.data[c(\"CD3D\", \"TCL1A\", \"MS4A1\"), 1:30]"
   ]
  },
  {
   "cell_type": "markdown",
   "id": "44a35ff9-aab9-4ad0-87d8-be66f2f4977a",
   "metadata": {},
   "source": [
    "--------\n",
    "The . values in the matrix represent 0s (no molecules detected). <br>\n",
    "    Since most values in an scRNA-seq matrix are 0, Seurat uses a sparse-matrix representation whenever possible. This results in significant memory and speed savings for Drop-seq/inDrop/10x data.\n",
    "--------"
   ]
  },
  {
   "cell_type": "code",
   "execution_count": 4,
   "id": "85896335-36db-4ff3-bd39-c51a08111c33",
   "metadata": {},
   "outputs": [
    {
     "data": {
      "text/plain": [
       "709591472 bytes"
      ]
     },
     "metadata": {},
     "output_type": "display_data"
    }
   ],
   "source": [
    "dense.size <- object.size(as.matrix(pbmc.data))\n",
    "dense.size"
   ]
  },
  {
   "cell_type": "code",
   "execution_count": 5,
   "id": "6e5e9b0e-74d1-468e-b791-32112dcda1c1",
   "metadata": {},
   "outputs": [
    {
     "data": {
      "text/plain": [
       "29905192 bytes"
      ]
     },
     "metadata": {},
     "output_type": "display_data"
    }
   ],
   "source": [
    "sparse.size <- object.size(pbmc.data)\n",
    "sparse.size"
   ]
  },
  {
   "cell_type": "code",
   "execution_count": 6,
   "id": "7ec312a5-e47a-4ee4-bc9b-557fec1d20a9",
   "metadata": {},
   "outputs": [
    {
     "data": {
      "text/plain": [
       "23.7 bytes"
      ]
     },
     "metadata": {},
     "output_type": "display_data"
    }
   ],
   "source": [
    "dense.size/sparse.size"
   ]
  },
  {
   "cell_type": "code",
   "execution_count": 7,
   "id": "68f745ed-8c89-4119-b7de-f373c030bd52",
   "metadata": {},
   "outputs": [],
   "source": [
    "d <- dense.size"
   ]
  },
  {
   "cell_type": "code",
   "execution_count": null,
   "id": "4127a21c-7e9d-44c4-9738-d4c739c93cfe",
   "metadata": {},
   "outputs": [],
   "source": []
  }
 ],
 "metadata": {
  "kernelspec": {
   "display_name": "R",
   "language": "R",
   "name": "ir"
  },
  "language_info": {
   "codemirror_mode": "r",
   "file_extension": ".r",
   "mimetype": "text/x-r-source",
   "name": "R",
   "pygments_lexer": "r",
   "version": "4.1.1"
  }
 },
 "nbformat": 4,
 "nbformat_minor": 5
}
